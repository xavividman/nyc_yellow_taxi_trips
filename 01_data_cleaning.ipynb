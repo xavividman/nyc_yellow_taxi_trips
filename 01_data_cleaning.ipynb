{
 "cells": [
  {
   "cell_type": "code",
   "execution_count": 92,
   "metadata": {},
   "outputs": [],
   "source": [
    "import pandas as pd\n",
    "pd.options.display.max_columns = None"
   ]
  },
  {
   "cell_type": "code",
   "execution_count": 93,
   "metadata": {},
   "outputs": [],
   "source": [
    "df_feb = pd.read_parquet('https://d37ci6vzurychx.cloudfront.net/trip-data/yellow_tripdata_2019-02.parquet')\n",
    "df_march = pd.read_parquet('https://d37ci6vzurychx.cloudfront.net/trip-data/yellow_tripdata_2019-03.parquet')"
   ]
  },
  {
   "cell_type": "code",
   "execution_count": 94,
   "metadata": {},
   "outputs": [],
   "source": [
    "df = pd.concat([df_feb, df_march])\n",
    "df = df.drop_duplicates()\n",
    "\n",
    "df = df.rename(columns={\n",
    "            'VendorID':'vendor_id',\n",
    "            'RatecodeID':'ratecode_id',\n",
    "            'PULocationID':'pu_zone_id',\n",
    "            'DOLocationID':'do_zone_id'})"
   ]
  },
  {
   "cell_type": "code",
   "execution_count": 96,
   "metadata": {},
   "outputs": [],
   "source": [
    "# Outliers fast cleaning\n",
    "df = df.drop(columns=['airport_fee'])\n",
    "\n",
    "df = df.loc[df.trip_distance <= df.trip_distance.quantile(0.9)]\n",
    "df = df.loc[df.trip_distance >= df.trip_distance.quantile(0.1)]\n",
    "\n",
    "df = df.loc[df.fare_amount <= df.fare_amount.quantile(0.9)]\n",
    "df = df.loc[df.fare_amount >= df.fare_amount.quantile(0.1)]\n",
    "\n",
    "\n",
    "df = df.loc[df.ratecode_id!=99] #Unknown\n",
    "df = df.loc[df.payment_type!=5] #Unknown\n",
    "\n",
    "df = df.loc[df.passenger_count<=5]"
   ]
  },
  {
   "cell_type": "code",
   "execution_count": 98,
   "metadata": {},
   "outputs": [],
   "source": [
    "dicc_ratecode = {1:\"Standard\", 2:\"JFK\", 3:\"EWR\", 4:\"Nass/West\", 5:\"Negotiated\", 6:\"Group Ride\", 99:\"Unknown\"}\n",
    "df['ratecode'] = df.ratecode_id.map(dicc_ratecode)\n",
    "\n",
    "df = df.drop(columns={'ratecode_id'})\n",
    "\n",
    "dicc_payment = {1:\"Credit Card\", 2:\"Cash\", 3:\"No charge\", 4:\"Dispute\", 5:\"Unknown\", 6:\"Voided trip\"}\n",
    "df['payment_type'] = df.payment_type.map(dicc_payment)"
   ]
  },
  {
   "cell_type": "code",
   "execution_count": 99,
   "metadata": {},
   "outputs": [],
   "source": [
    "df['trip_distance_aux'] = df['trip_distance']\n",
    "\n",
    "df.trip_distance_aux = df.trip_distance_aux.replace(0, 1)\n",
    "df.trip_distance_aux = df.trip_distance_aux.fillna(1)\n",
    "\n",
    "df['fare_per_mile'] = df.fare_amount / df.trip_distance_aux\n",
    "\n",
    "df.loc[df['trip_distance'] == 0, 'fare_per_mile'] = 0\n",
    "\n",
    "df = df.drop(columns=['trip_distance_aux'])"
   ]
  },
  {
   "cell_type": "code",
   "execution_count": 100,
   "metadata": {},
   "outputs": [],
   "source": [
    "df['trip_time'] = df.tpep_dropoff_datetime - df.tpep_pickup_datetime\n",
    "\n",
    "df = df.loc[df.trip_time <= df.trip_time.quantile(0.9)]\n",
    "df = df.loc[df.trip_time >= df.trip_time.quantile(0.1)]\n",
    "\n",
    "df.trip_time = df.trip_time.dt.total_seconds()\n",
    "\n",
    "df['trip_time_aux'] = df.trip_time\n",
    "df.trip_time_aux = df.trip_time_aux.replace(0, 1)\n",
    "df.trip_time_aux = df.trip_time_aux.fillna(1)\n",
    "\n",
    "df['fare_per_minute'] = df.fare_amount / (df.trip_time_aux / 60)\n",
    "\n",
    "df.loc[df['trip_time'] == 0, 'fare_per_minute'] = 0\n",
    "\n",
    "df = df.drop(columns=['trip_time_aux'])"
   ]
  },
  {
   "cell_type": "code",
   "execution_count": 101,
   "metadata": {},
   "outputs": [],
   "source": [
    "df_zone = pd.read_csv('https://raw.githubusercontent.com/soyHenry/DS-Proyecto_Grupal_TaxisNYC/main/taxi%2B_zone_lookup.csv')\n",
    "\n",
    "df_zone = df_zone.rename(columns={\n",
    "                    'LocationID':'id_zone',\n",
    "                    'Borough':'borough',\n",
    "                    'Zone':'zone'})\n",
    "\n",
    "\n",
    "borough_data = {'id_borough': [1, 2, 3, 4, 5, 6, 7], 'borough':['Brooklyn', 'Bronx', 'Manhattan', 'Staten Island', 'Queens', 'EWR', 'Unknown']}\n",
    "df_borough = pd.DataFrame(borough_data)\n",
    "\n",
    "dic_zone_borough = {df_zone.id_zone[i] : df_zone.borough[i] for i in range (0,len(df_zone))}\n",
    "\n",
    "dic_id_borough = {df_borough.borough[i] : df_borough.id_borough[i] for i in range (0, len(df_borough))}\n",
    "\n",
    "df['pu_borough'] = df.pu_zone_id.map(dic_zone_borough)\n",
    "df['do_borough'] = df.do_zone_id.map(dic_zone_borough)\n",
    "\n",
    "df['id_borough'] = df.pu_borough.map(dic_id_borough)\n",
    "\n",
    "df = df.drop(columns={'id_borough'})"
   ]
  },
  {
   "cell_type": "code",
   "execution_count": 115,
   "metadata": {},
   "outputs": [],
   "source": [
    "df.passenger_count = df.passenger_count.astype(int)\n",
    "df.to_csv('nyc_yellow_taxi_trips_2019_02_03.csv', index=False)"
   ]
  }
 ],
 "metadata": {
  "kernelspec": {
   "display_name": "Python 3",
   "language": "python",
   "name": "python3"
  },
  "language_info": {
   "codemirror_mode": {
    "name": "ipython",
    "version": 3
   },
   "file_extension": ".py",
   "mimetype": "text/x-python",
   "name": "python",
   "nbconvert_exporter": "python",
   "pygments_lexer": "ipython3",
   "version": "3.11.5"
  }
 },
 "nbformat": 4,
 "nbformat_minor": 2
}
